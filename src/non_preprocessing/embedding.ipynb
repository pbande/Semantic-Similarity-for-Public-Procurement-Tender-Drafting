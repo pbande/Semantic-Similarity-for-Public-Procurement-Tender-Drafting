{
 "cells": [
  {
   "cell_type": "code",
   "execution_count": 2,
   "metadata": {},
   "outputs": [],
   "source": [
    "import joblib\n",
    "import pandas as pd\n",
    "import matplotlib.pyplot as plt\n",
    "import numpy as np\n",
    "\n",
    "df = pd.read_csv('../../data/insiders_with_preprocessed_descriptions.csv')\n",
    "descriptions = df['lowercase_description']\n",
    "cpv_description_df = df[['CPV', 'lowercase_description']]"
   ]
  },
  {
   "cell_type": "code",
   "execution_count": 3,
   "metadata": {},
   "outputs": [
    {
     "name": "stdout",
     "output_type": "stream",
     "text": [
      "Using device: cuda\n"
     ]
    }
   ],
   "source": [
    "import torch\n",
    "\n",
    "device = torch.device(\"cuda\" if torch.cuda.is_available() else \"cpu\")\n",
    "print(f\"Using device: {device}\")"
   ]
  },
  {
   "cell_type": "code",
   "execution_count": 4,
   "metadata": {},
   "outputs": [
    {
     "name": "stdout",
     "output_type": "stream",
     "text": [
      "<class 'pandas.core.frame.DataFrame'>\n",
      "Index: 57048 entries, 46668 to 34561\n",
      "Data columns (total 2 columns):\n",
      " #   Column                 Non-Null Count  Dtype \n",
      "---  ------                 --------------  ----- \n",
      " 0   CPV                    57048 non-null  object\n",
      " 1   lowercase_description  57048 non-null  object\n",
      "dtypes: object(2)\n",
      "memory usage: 1.3+ MB\n"
     ]
    }
   ],
   "source": [
    "cpv_description_df = cpv_description_df.sort_values(by='CPV')\n",
    "cpv_description_df.info()"
   ]
  },
  {
   "cell_type": "code",
   "execution_count": 11,
   "metadata": {},
   "outputs": [],
   "source": [
    "from sklearn.model_selection import train_test_split\n",
    "\n",
    "train_data, test_data = train_test_split(descriptions, test_size=0.25, random_state=42)"
   ]
  },
  {
   "cell_type": "code",
   "execution_count": 12,
   "metadata": {},
   "outputs": [
    {
     "name": "stdout",
     "output_type": "stream",
     "text": [
      "20503\n"
     ]
    }
   ],
   "source": [
    "from torch.utils.data import DataLoader\n",
    "from sentence_transformers import InputExample\n",
    "\n",
    "pairs = []\n",
    "\n",
    "cpv_groups = cpv_description_df.groupby('CPV')\n",
    "\n",
    "for cpv, group in cpv_groups:\n",
    "    list_of_descriptions = group['lowercase_description'].tolist()\n",
    "    if len(descriptions) > 1:  # Ensure there are at least two descriptions to create pairs\n",
    "        # Create pairs sequentially\n",
    "        for i in range(0, len(list_of_descriptions) - 1, 2):\n",
    "            if i + 1 < len(list_of_descriptions):\n",
    "                pairs.append(InputExample(texts=[list_of_descriptions[i], list_of_descriptions[i + 1]]))\n",
    "                \n",
    "print(len(pairs))\n",
    "\n",
    "# Create a DataLoader from the pairs\n",
    "train_dataloader = DataLoader(pairs, shuffle=True, batch_size=16)"
   ]
  },
  {
   "cell_type": "markdown",
   "metadata": {},
   "source": [
    "## TF-IDF"
   ]
  },
  {
   "cell_type": "code",
   "execution_count": 13,
   "metadata": {},
   "outputs": [],
   "source": [
    "from sklearn.feature_extraction.text import TfidfVectorizer\n",
    "\n",
    "tfidf_vectorizer = TfidfVectorizer()\n",
    "tfidf_embeddings = tfidf_vectorizer.fit_transform(descriptions)"
   ]
  },
  {
   "cell_type": "code",
   "execution_count": 14,
   "metadata": {},
   "outputs": [
    {
     "data": {
      "text/plain": [
       "(57048, 55771)"
      ]
     },
     "execution_count": 14,
     "metadata": {},
     "output_type": "execute_result"
    }
   ],
   "source": [
    "tfidf_embeddings.shape"
   ]
  },
  {
   "cell_type": "code",
   "execution_count": 15,
   "metadata": {},
   "outputs": [
    {
     "data": {
      "text/plain": [
       "['../../models/non_preprocessing/tfidf_vectorizer.pkl']"
      ]
     },
     "execution_count": 15,
     "metadata": {},
     "output_type": "execute_result"
    }
   ],
   "source": [
    "# save\n",
    "joblib.dump(tfidf_vectorizer, '../../models/non_preprocessing/tfidf_vectorizer.pkl')"
   ]
  },
  {
   "cell_type": "markdown",
   "metadata": {},
   "source": [
    "## Doc2Vec"
   ]
  },
  {
   "cell_type": "code",
   "execution_count": 16,
   "metadata": {},
   "outputs": [],
   "source": [
    "from gensim.models.doc2vec import TaggedDocument\n",
    "\n",
    "doc2vec_train_data = [TaggedDocument(words=desc.split(), tags=[str(i)]) for i, desc in enumerate(descriptions)]"
   ]
  },
  {
   "cell_type": "code",
   "execution_count": 19,
   "metadata": {},
   "outputs": [],
   "source": [
    "from gensim.models.doc2vec import Doc2Vec\n",
    "\n",
    "doc2vec_model = Doc2Vec(\n",
    "    vector_size=300,\n",
    "    window=5,\n",
    "    min_count=1,\n",
    "    workers=4,\n",
    "    dm=1\n",
    ")\n",
    "\n",
    "doc2vec_model.build_vocab(doc2vec_train_data)\n",
    "doc2vec_model.train(\n",
    "    doc2vec_train_data, \n",
    "    total_examples=doc2vec_model.corpus_count, \n",
    "    epochs=30\n",
    ")"
   ]
  },
  {
   "cell_type": "markdown",
   "metadata": {},
   "source": [
    "evaluate"
   ]
  },
  {
   "cell_type": "code",
   "execution_count": 20,
   "metadata": {},
   "outputs": [
    {
     "name": "stdout",
     "output_type": "stream",
     "text": [
      "Document ranks with respect to the training corpus:\n",
      "Counter({0: 48189, 1: 3050, 2: 654, 3: 280, 4: 173, 5: 125, 6: 106, 7: 95, 8: 76, 9: 75, 11: 55, 13: 45, 10: 41, 25: 41, 12: 41, 14: 41, 17: 40, 23: 36, 18: 35, 21: 34, 15: 32, 19: 32, 16: 31, 22: 30, 20: 28, 28: 28, 46: 25, 24: 24, 26: 24, 38: 23, 50: 22, 30: 22, 35: 21, 51: 20, 39: 20, 27: 20, 32: 19, 60: 19, 29: 19, 63: 19, 31: 18, 34: 18, 33: 18, 44: 18, 54: 17, 65: 17, 80: 17, 37: 17, 43: 16, 106: 16, 45: 16, 74: 15, 48: 15, 36: 15, 47: 15, 77: 14, 42: 14, 120: 13, 52: 13, 49: 13, 125: 13, 67: 13, 40: 13, 69: 12, 96: 12, 59: 12, 94: 12, 66: 12, 92: 12, 76: 12, 71: 11, 75: 11, 99: 11, 57: 11, 73: 11, 68: 11, 53: 11, 84: 10, 114: 10, 115: 10, 55: 10, 64: 10, 56: 10, 90: 10, 178: 10, 89: 10, 78: 9, 105: 9, 61: 9, 154: 9, 221: 9, 79: 9, 175: 9, 181: 9, 210: 9, 142: 9, 119: 8, 149: 8, 85: 8, 70: 8, 113: 8, 41: 8, 116: 8, 111: 8, 100: 8, 151: 8, 232: 7, 209: 7, 291: 7, 332: 7, 81: 7, 127: 7, 157: 7, 138: 7, 167: 7, 198: 7, 97: 7, 112: 7, 98: 7, 108: 7, 109: 7, 117: 7, 371: 7, 431: 7, 161: 7, 334: 7, 192: 7, 171: 6, 298: 6, 172: 6, 215: 6, 186: 6, 101: 6, 179: 6, 283: 6, 58: 6, 122: 6, 82: 6, 137: 6, 302: 6, 103: 6, 268: 6, 264: 6, 176: 6, 206: 6, 316: 6, 128: 6, 83: 6, 416: 6, 225: 6, 292: 6, 486: 6, 174: 6, 319: 6, 333: 6, 152: 5, 230: 5, 310: 5, 143: 5, 376: 5, 164: 5, 146: 5, 107: 5, 299: 5, 223: 5, 118: 5, 196: 5, 428: 5, 123: 5, 183: 5, 557: 5, 93: 5, 421: 5, 439: 5, 296: 5, 195: 5, 182: 5, 86: 5, 87: 5, 184: 5, 266: 5, 156: 5, 95: 5, 212: 5, 261: 5, 104: 5, 238: 5, 147: 5, 150: 5, 505: 5, 190: 5, 360: 5, 315: 5, 91: 5, 241: 5, 422: 5, 168: 5, 284: 5, 226: 5, 430: 5, 144: 4, 256: 4, 313: 4, 806: 4, 361: 4, 559: 4, 501: 4, 318: 4, 180: 4, 247: 4, 601: 4, 211: 4, 141: 4, 535: 4, 379: 4, 140: 4, 169: 4, 622: 4, 134: 4, 208: 4, 272: 4, 234: 4, 314: 4, 401: 4, 429: 4, 483: 4, 173: 4, 664: 4, 365: 4, 189: 4, 372: 4, 336: 4, 129: 4, 188: 4, 274: 4, 228: 4, 199: 4, 465: 4, 131: 4, 415: 4, 248: 4, 252: 4, 325: 4, 255: 4, 576: 4, 442: 4, 553: 4, 649: 4, 259: 4, 270: 4, 287: 4, 265: 4, 224: 4, 177: 4, 480: 4, 566: 4, 375: 4, 330: 4, 339: 4, 267: 4, 507: 4, 435: 4, 271: 4, 235: 4, 203: 4, 345: 4, 159: 4, 233: 4, 392: 4, 88: 4, 550: 4, 262: 4, 838: 4, 139: 4, 450: 4, 155: 4, 158: 4, 471: 4, 163: 4, 214: 4, 1751: 4, 200: 4, 380: 4, 2351: 4, 729: 4, 240: 4, 1037: 4, 358: 3, 830: 3, 335: 3, 902: 3, 162: 3, 684: 3, 1378: 3, 839: 3, 679: 3, 653: 3, 591: 3, 959: 3, 828: 3, 363: 3, 207: 3, 352: 3, 386: 3, 561: 3, 453: 3, 216: 3, 925: 3, 187: 3, 434: 3, 706: 3, 819: 3, 792: 3, 756: 3, 145: 3, 489: 3, 148: 3, 758: 3, 448: 3, 1009: 3, 236: 3, 102: 3, 583: 3, 1348: 3, 817: 3, 121: 3, 201: 3, 389: 3, 191: 3, 1005: 3, 2061: 3, 205: 3, 1106: 3, 943: 3, 285: 3, 387: 3, 544: 3, 1070: 3, 567: 3, 861: 3, 294: 3, 62: 3, 1645: 3, 254: 3, 1078: 3, 312: 3, 540: 3, 354: 3, 951: 3, 1495: 3, 771: 3, 491: 3, 132: 3, 348: 3, 160: 3, 409: 3, 393: 3, 537: 3, 304: 3, 407: 3, 289: 3, 417: 3, 408: 3, 730: 3, 608: 3, 648: 3, 700: 3, 359: 3, 349: 3, 170: 3, 227: 3, 317: 3, 202: 3, 575: 3, 194: 3, 222: 3, 440: 3, 449: 3, 269: 3, 346: 3, 377: 3, 219: 3, 525: 3, 1399: 3, 472: 3, 293: 3, 185: 3, 623: 3, 237: 3, 927: 3, 719: 3, 436: 3, 498: 3, 657: 3, 72: 3, 369: 3, 420: 3, 275: 3, 124: 3, 728: 3, 574: 3, 477: 3, 286: 3, 322: 3, 395: 3, 1368: 3, 534: 3, 474: 3, 894: 3, 572: 3, 419: 3, 382: 3, 242: 3, 671: 3, 753: 3, 803: 3, 531: 3, 305: 3, 686: 3, 130: 3, 243: 3, 193: 3, 166: 3, 338: 3, 350: 3, 307: 3, 475: 3, 410: 3, 780: 3, 1060: 3, 344: 3, 445: 3, 644: 3, 309: 3, 2527: 2, 842: 2, 620: 2, 541: 2, 703: 2, 990: 2, 681: 2, 340: 2, 923: 2, 220: 2, 1846: 2, 1291: 2, 502: 2, 831: 2, 249: 2, 1000: 2, 786: 2, 614: 2, 239: 2, 1342: 2, 840: 2, 2290: 2, 677: 2, 659: 2, 1012: 2, 245: 2, 362: 2, 571: 2, 536: 2, 381: 2, 357: 2, 1890: 2, 308: 2, 908: 2, 855: 2, 1050: 2, 826: 2, 687: 2, 364: 2, 968: 2, 402: 2, 693: 2, 628: 2, 547: 2, 1103: 2, 367: 2, 764: 2, 783: 2, 953: 2, 1562: 2, 909: 2, 374: 2, 484: 2, 229: 2, 276: 2, 602: 2, 133: 2, 490: 2, 821: 2, 355: 2, 253: 2, 1154: 2, 327: 2, 384: 2, 492: 2, 373: 2, 1782: 2, 569: 2, 1503: 2, 1613: 2, 279: 2, 581: 2, 975: 2, 1222: 2, 110: 2, 1948: 2, 635: 2, 699: 2, 1230: 2, 663: 2, 1535: 2, 1270: 2, 612: 2, 1229: 2, 1560: 2, 1501: 2, 1880: 2, 636: 2, 992: 2, 997: 2, 1016: 2, 940: 2, 1672: 2, 784: 2, 834: 2, 1157: 2, 773: 2, 1284: 2, 2812: 2, 343: 2, 414: 2, 300: 2, 443: 2, 370: 2, 517: 2, 515: 2, 326: 2, 579: 2, 329: 2, 426: 2, 957: 2, 1201: 2, 437: 2, 197: 2, 532: 2, 282: 2, 587: 2, 538: 2, 921: 2, 760: 2, 960: 2, 595: 2, 939: 2, 135: 2, 528: 2, 613: 2, 718: 2, 1081: 2, 1144: 2, 496: 2, 586: 2, 2081: 2, 762: 2, 1024: 2, 2093: 2, 218: 2, 153: 2, 609: 2, 1066: 2, 321: 2, 598: 2, 1668: 2, 446: 2, 1569: 2, 1533: 2, 1133: 2, 510: 2, 672: 2, 500: 2, 2204: 2, 2376: 2, 126: 2, 136: 2, 251: 2, 1303: 2, 860: 2, 250: 2, 545: 2, 481: 2, 904: 2, 391: 2, 820: 2, 1438: 2, 2513: 2, 667: 2, 577: 2, 3075: 2, 1256: 2, 323: 2, 1650: 2, 423: 2, 523: 2, 513: 2, 311: 2, 204: 2, 555: 2, 1069: 2, 1530: 2, 825: 2, 1269: 2, 1014: 2, 632: 2, 518: 2, 892: 2, 280: 2, 1395: 2, 3151: 2, 1719: 2, 931: 2, 722: 2, 2086: 2, 258: 2, 378: 2, 1444: 2, 1251: 2, 1079: 2, 1534: 2, 539: 2, 460: 2, 433: 2, 979: 2, 645: 2, 747: 2, 516: 2, 766: 2, 896: 2, 456: 2, 642: 2, 246: 2, 750: 2, 1013: 2, 1010: 2, 1677: 2, 631: 2, 503: 2, 1164: 2, 1318: 2, 288: 2, 1151: 2, 690: 2, 1045: 2, 937: 2, 297: 2, 1035: 2, 1199: 2, 257: 2, 1607: 2, 1493: 2, 1193: 2, 1048: 2, 1011: 2, 217: 2, 1003: 2, 260: 2, 1274: 2, 1299: 2, 1615: 2, 585: 2, 1366: 2, 2225: 2, 1515: 2, 748: 2, 745: 2, 530: 2, 584: 2, 725: 2, 1268: 2, 1467: 2, 768: 2, 1156: 2, 661: 2, 482: 2, 301: 2, 1762: 2, 746: 2, 922: 2, 231: 2, 1027: 2, 165: 2, 610: 2, 533: 2, 794: 2, 398: 2, 573: 2, 685: 2, 944: 2, 1141: 2, 303: 2, 413: 2, 556: 2, 903: 2, 281: 2, 1522: 2, 1696: 1, 1004: 1, 727: 1, 1435: 1, 996: 1, 2009: 1, 929: 1, 582: 1, 1867: 1, 691: 1, 2353: 1, 594: 1, 1785: 1, 3977: 1, 554: 1, 7248: 1, 295: 1, 1784: 1, 2237: 1, 2420: 1, 512: 1, 400: 1, 385: 1, 1720: 1, 836: 1, 709: 1, 919: 1, 1128: 1, 3014: 1, 1622: 1, 1628: 1, 2933: 1, 1684: 1, 1033: 1, 666: 1, 1748: 1, 1856: 1, 1722: 1, 3870: 1, 1909: 1, 2257: 1, 4695: 1, 1452: 1, 1110: 1, 1809: 1, 1423: 1, 1130: 1, 468: 1, 604: 1, 1135: 1, 2951: 1, 1349: 1, 2017: 1, 2553: 1, 4890: 1, 986: 1, 698: 1, 1864: 1, 1213: 1, 782: 1, 1094: 1, 2636: 1, 2229: 1, 2456: 1, 548: 1, 988: 1, 3322: 1, 1357: 1, 813: 1, 5554: 1, 2194: 1, 1389: 1, 736: 1, 1507: 1, 1630: 1, 3258: 1, 1903: 1, 1367: 1, 1166: 1, 2238: 1, 1297: 1, 891: 1, 1380: 1, 451: 1, 2729: 1, 3516: 1, 1456: 1, 3572: 1, 2542: 1, 743: 1, 1175: 1, 674: 1, 1032: 1, 1065: 1, 1046: 1, 1114: 1, 928: 1, 640: 1, 562: 1, 1339: 1, 962: 1, 865: 1, 1659: 1, 1734: 1, 1354: 1, 1760: 1, 2557: 1, 1314: 1, 1489: 1, 3148: 1, 958: 1, 1170: 1, 1523: 1, 1468: 1, 5844: 1, 2770: 1, 3158: 1, 2070: 1, 425: 1, 1462: 1, 1465: 1, 1087: 1, 1052: 1, 1831: 1, 808: 1, 1217: 1, 1606: 1, 1260: 1, 1911: 1, 1375: 1, 1278: 1, 711: 1, 1096: 1, 702: 1, 676: 1, 1029: 1, 3040: 1, 793: 1, 1512: 1, 999: 1, 2028: 1, 1102: 1, 3229: 1, 1026: 1, 2384: 1, 2554: 1, 1826: 1, 1006: 1, 1218: 1, 775: 1, 3417: 1, 1198: 1, 1259: 1, 1062: 1, 1984: 1, 469: 1, 1294: 1, 397: 1, 732: 1, 494: 1, 2207: 1, 617: 1, 2305: 1, 529: 1, 930: 1, 1083: 1, 1385: 1, 3382: 1, 1788: 1, 3274: 1, 2537: 1, 6130: 1, 1496: 1, 2315: 1, 1206: 1, 733: 1, 3175: 1, 854: 1, 4218: 1, 844: 1, 493: 1, 1592: 1, 552: 1, 737: 1, 2119: 1, 1808: 1, 2912: 1, 514: 1, 3532: 1, 1448: 1, 3329: 1, 981: 1, 759: 1, 950: 1, 2109: 1, 1680: 1, 2831: 1, 1021: 1, 2473: 1, 1258: 1, 1322: 1, 1216: 1, 1041: 1, 3708: 1, 1780: 1, 1905: 1, 1298: 1, 651: 1, 1179: 1, 1215: 1, 2750: 1, 1277: 1, 647: 1, 1723: 1, 1656: 1, 1596: 1, 1369: 1, 1125: 1, 1177: 1, 1180: 1, 331: 1, 1097: 1, 2450: 1, 341: 1, 1940: 1, 1145: 1, 1049: 1, 542: 1, 2615: 1, 273: 1, 1101: 1, 1320: 1, 2462: 1, 213: 1, 2549: 1, 1147: 1, 4995: 1, 2097: 1, 1136: 1, 1919: 1, 995: 1, 461: 1, 1634: 1, 1142: 1, 910: 1, 1167: 1, 954: 1, 2775: 1, 983: 1, 406: 1, 2411: 1, 2023: 1, 2263: 1, 1300: 1, 3642: 1, 1830: 1, 1072: 1, 770: 1, 1381: 1, 1794: 1, 972: 1, 1155: 1, 522: 1, 1189: 1, 356: 1, 2924: 1, 342: 1, 1500: 1, 1451: 1, 956: 1, 1109: 1, 1836: 1, 2170: 1, 593: 1, 1598: 1, 320: 1, 570: 1, 692: 1, 1271: 1, 1550: 1, 816: 1, 1662: 1, 1692: 1, 871: 1, 849: 1, 3526: 1, 1946: 1, 1454: 1, 1577: 1, 3002: 1, 563: 1, 895: 1, 1002: 1, 619: 1, 1266: 1, 4964: 1, 742: 1, 966: 1, 4293: 1, 1779: 1, 867: 1, 2159: 1, 487: 1, 1347: 1, 717: 1, 1031: 1, 5534: 1, 652: 1, 656: 1, 1528: 1, 3278: 1, 2623: 1, 1733: 1, 1763: 1, 1923: 1, 1443: 1, 982: 1, 1608: 1, 2415: 1, 2031: 1, 3130: 1, 3387: 1, 263: 1, 605: 1, 353: 1, 1255: 1, 1288: 1, 244: 1, 1153: 1, 1481: 1, 2062: 1, 457: 1, 1874: 1, 2591: 1, 2188: 1, 441: 1, 2502: 1, 1679: 1, 1131: 1, 1295: 1, 1043: 1, 4934: 1, 802: 1, 1844: 1, 2437: 1, 787: 1, 488: 1, 1813: 1, 1709: 1, 405: 1, 1168: 1, 337: 1, 466: 1, 1479: 1, 3064: 1, 1917: 1, 2192: 1, 564: 1, 1234: 1, 2906: 1, 495: 1, 4133: 1, 797: 1, 3083: 1, 4195: 1, 785: 1, 1494: 1, 1661: 1, 1401: 1, 476: 1, 734: 1, 590: 1, 1186: 1, 1695: 1, 1915: 1, 2239: 1, 328: 1, 1755: 1, 2132: 1, 1646: 1, 4330: 1, 650: 1, 1599: 1, 2389: 1, 1275: 1, 3467: 1, 3769: 1, 1841: 1, 1146: 1, 3410: 1, 2573: 1, 1552: 1, 2198: 1, 1362: 1, 1184: 1, 1933: 1, 2662: 1, 2959: 1, 2403: 1, 3077: 1, 2471: 1, 1624: 1, 1118: 1, 765: 1, 680: 1, 3170: 1, 1571: 1, 2592: 1, 1900: 1, 463: 1, 4318: 1, 1346: 1, 3005: 1, 2346: 1, 887: 1, 2625: 1, 615: 1, 1694: 1, 866: 1, 1053: 1, 4164: 1, 977: 1, 351: 1, 2252: 1, 1899: 1, 1633: 1, 1319: 1, 3188: 1, 980: 1, 1600: 1, 1514: 1, 4072: 1, 1093: 1, 1404: 1, 1086: 1, 1334: 1, 2547: 1, 969: 1, 592: 1, 1364: 1, 1176: 1, 976: 1, 3390: 1, 3173: 1, 546: 1, 2460: 1, 1786: 1, 1724: 1, 1038: 1, 1877: 1, 599: 1, 1092: 1, 1308: 1, 1449: 1, 1627: 1, 1922: 1, 1344: 1, 1475: 1, 3472: 1, 526: 1, 1776: 1, 4088: 1, 1225: 1, 1332: 1, 1228: 1, 1390: 1, 1524: 1, 388: 1, 882: 1, 713: 1, 744: 1, 2333: 1, 1148: 1, 1028: 1, 1737: 1, 654: 1, 1061: 1, 1063: 1, 1172: 1, 4480: 1, 626: 1, 3852: 1, 2133: 1, 485: 1, 454: 1, 2475: 1, 2579: 1, 2211: 1, 4260: 1, 1929: 1, 862: 1, 814: 1, 1725: 1, 708: 1, 504: 1, 520: 1, 1241: 1, 850: 1, 1396: 1, 2096: 1, 1547: 1, 543: 1, 945: 1, 478: 1, 2349: 1, 1173: 1, 1264: 1, 1440: 1, 809: 1, 4462: 1, 1746: 1, 3358: 1, 2810: 1, 506: 1, 689: 1, 519: 1, 1224: 1, 2556: 1, 886: 1, 603: 1, 611: 1, 2320: 1, 2108: 1, 873: 1, 2529: 1, 675: 1, 1058: 1, 2216: 1, 432: 1, 1123: 1, 1436: 1, 4581: 1, 1232: 1, 1996: 1, 2833: 1, 2020: 1, 1667: 1, 2640: 1, 4031: 1, 2704: 1, 2732: 1, 777: 1, 606: 1, 1091: 1, 641: 1, 1920: 1, 998: 1, 1614: 1, 1768: 1, 596: 1, 560: 1, 812: 1, 833: 1, 1376: 1, 3213: 1, 3723: 1, 1710: 1, 1121: 1, 3073: 1, 1226: 1, 1336: 1, 1586: 1, 740: 1, 2761: 1, 1743: 1, 1925: 1, 2946: 1, 2107: 1, 2258: 1, 870: 1, 324: 1, 467: 1, 527: 1, 1326: 1, 837: 1, 1582: 1, 715: 1, 1211: 1, 847: 1, 1331: 1, 2401: 1, 2524: 1, 1195: 1, 2849: 1, 2522: 1, 683: 1, 1665: 1, 763: 1, 799: 1, 1233: 1, 589: 1, 2865: 1, 1772: 1, 823: 1, 2206: 1, 444: 1, 932: 1, 2718: 1, 800: 1, 2561: 1, 1292: 1, 1851: 1, 1360: 1, 941: 1, 4279: 1, 2510: 1, 824: 1, 738: 1, 739: 1, 2954: 1, 761: 1, 1204: 1, 1076: 1, 1020: 1, 427: 1, 1057: 1, 404: 1, 1055: 1, 1285: 1, 1384: 1, 1955: 1, 1007: 1, 508: 1, 1807: 1, 1361: 1, 724: 1, 5010: 1, 1408: 1, 473: 1, 1245: 1, 1736: 1, 853: 1, 607: 1, 885: 1, 1482: 1, 412: 1, 2762: 1, 1181: 1, 633: 1, 1891: 1, 1191: 1, 509: 1, 278: 1, 4788: 1, 3217: 1, 1304: 1, 2458: 1, 1584: 1, 3531: 1, 755: 1, 2757: 1, 1498: 1, 2360: 1, 565: 1, 2457: 1, 1214: 1, 2738: 1, 985: 1, 1804: 1, 2022: 1, 1099: 1, 1727: 1, 971: 1, 1341: 1, 1056: 1, 1315: 1, 695: 1, 801: 1, 524: 1, 1119: 1, 1238: 1, 1999: 1, 438: 1, 447: 1, 852: 1, 1490: 1, 643: 1, 3520: 1, 418: 1, 1047: 1, 1019: 1, 2298: 1, 701: 1, 1281: 1, 2054: 1, 1982: 1, 1158: 1, 383: 1})\n"
     ]
    }
   ],
   "source": [
    "import collections\n",
    "\n",
    "ranks = []\n",
    "second_ranks = []\n",
    "\n",
    "# Infer vectors for each document in the training corpus and find their ranks\n",
    "for doc_id in range(len(doc2vec_train_data)):\n",
    "    inferred_vector = doc2vec_model.infer_vector(doc2vec_train_data[doc_id].words)\n",
    "    sims = doc2vec_model.dv.most_similar([inferred_vector], topn=len(doc2vec_model.dv))\n",
    "    doc_ids = [int(id) for id, sim in sims]\n",
    "\n",
    "    if doc_id in doc_ids:\n",
    "        rank = doc_ids.index(doc_id)\n",
    "        ranks.append(rank)\n",
    "    else:\n",
    "        ranks.append(-1)\n",
    "    \n",
    "    second_ranks.append(sims[1])\n",
    "\n",
    "# Analyze the ranks\n",
    "counter = collections.Counter(ranks)\n",
    "print(\"Document ranks with respect to the training corpus:\")\n",
    "print(counter)"
   ]
  },
  {
   "cell_type": "code",
   "execution_count": 21,
   "metadata": {},
   "outputs": [
    {
     "data": {
      "image/png": "[encoded data removed]",
      "text/plain": [
       "<Figure size 700x700 with 1 Axes>"
      ]
     },
     "metadata": {},
     "output_type": "display_data"
    }
   ],
   "source": [
    "grouped_counter = collections.Counter()\n",
    "for rank, count in counter.items():\n",
    "    if rank <= 2:\n",
    "        grouped_counter[rank] = count\n",
    "    else:\n",
    "        grouped_counter[3] += count\n",
    "\n",
    "# Plot the distribution of document ranks as a pie chart\n",
    "labels, sizes = zip(*grouped_counter.items())\n",
    "labels = [str(label) if label <= 2 else '3+' for label in labels]\n",
    "\n",
    "plt.figure(figsize=(7, 7))\n",
    "plt.pie(sizes, labels=labels, autopct='%1.1f%%', startangle=140)\n",
    "plt.axis('equal')  # Equal aspect ratio ensures that pie is drawn as a circle.\n",
    "plt.title('Document Ranks with Respect to the Training Corpus')\n",
    "plt.show()"
   ]
  },
  {
   "cell_type": "code",
   "execution_count": 22,
   "metadata": {},
   "outputs": [],
   "source": [
    "# save\n",
    "doc2vec_model.save('../../models/non_preprocessing/doc2vec_model.model')"
   ]
  },
  {
   "cell_type": "code",
   "execution_count": 23,
   "metadata": {},
   "outputs": [
    {
     "name": "stdout",
     "output_type": "stream",
     "text": [
      "57048 300\n"
     ]
    }
   ],
   "source": [
    "doc2vec_embeddings = doc2vec_model.dv.vectors\n",
    "print(len(doc2vec_embeddings), len(doc2vec_embeddings[0]))"
   ]
  },
  {
   "cell_type": "markdown",
   "metadata": {},
   "source": [
    "## RoBERTa fine-tuned"
   ]
  },
  {
   "cell_type": "code",
   "execution_count": 24,
   "metadata": {},
   "outputs": [
    {
     "name": "stderr",
     "output_type": "stream",
     "text": [
      "C:\\Users\\Pablo\\AppData\\Local\\Packages\\PythonSoftwareFoundation.Python.3.11_qbz5n2kfra8p0\\LocalCache\\local-packages\\Python311\\site-packages\\huggingface_hub\\file_download.py:1132: FutureWarning: `resume_download` is deprecated and will be removed in version 1.0.0. Downloads always resume when possible. If you want to force a new download, use `force_download=True`.\n",
      "  warnings.warn(\n",
      "C:\\Users\\Pablo\\AppData\\Local\\Packages\\PythonSoftwareFoundation.Python.3.11_qbz5n2kfra8p0\\LocalCache\\local-packages\\Python311\\site-packages\\torch\\_utils.py:776: UserWarning: TypedStorage is deprecated. It will be removed in the future and UntypedStorage will be the only storage class. This should only matter to you if you are using storages directly.  To access UntypedStorage directly, use tensor.untyped_storage() instead of tensor.storage()\n",
      "  return self.fget.__get__(instance, owner)()\n",
      "Some weights of RobertaModel were not initialized from the model checkpoint at PlanTL-GOB-ES/roberta-base-bne and are newly initialized: ['roberta.pooler.dense.bias', 'roberta.pooler.dense.weight']\n",
      "You should probably TRAIN this model on a down-stream task to be able to use it for predictions and inference.\n",
      "Iteration: 100%|██████████| 1282/1282 [17:46<00:00,  1.20it/s]\n",
      "Iteration: 100%|██████████| 1282/1282 [20:56<00:00,  1.02it/s]\n",
      "Iteration: 100%|██████████| 1282/1282 [21:56<00:00,  1.03s/it]\n",
      "Iteration: 100%|██████████| 1282/1282 [20:20<00:00,  1.05it/s]\n",
      "Iteration: 100%|██████████| 1282/1282 [19:53<00:00,  1.07it/s]\n",
      "Epoch: 100%|██████████| 5/5 [1:40:53<00:00, 1210.75s/it]\n"
     ]
    }
   ],
   "source": [
    "from sentence_transformers import SentenceTransformer, losses, models\n",
    "\n",
    "word_embedding_model = models.Transformer('PlanTL-GOB-ES/roberta-base-bne')\n",
    "\n",
    "# pool function over the token embeddings\n",
    "pooling_model = models.Pooling(word_embedding_model.get_word_embedding_dimension(), pooling_mode='mean')\n",
    "roberta_fine_tuned_model = SentenceTransformer(modules=[word_embedding_model, pooling_model])\n",
    "roberta_fine_tuned_model.to(device) # gpu\n",
    "\n",
    "train_loss = losses.MultipleNegativesRankingLoss(roberta_fine_tuned_model)\n",
    "num_epochs = 5\n",
    "num_warmup_steps = int(len(train_dataloader) * num_epochs * 0.1)\n",
    "\n",
    "roberta_fine_tuned_model.fit(train_objectives=[(train_dataloader, train_loss)], epochs = num_epochs, warmup_steps = num_warmup_steps)"
   ]
  },
  {
   "cell_type": "code",
   "execution_count": 25,
   "metadata": {},
   "outputs": [
    {
     "name": "stdout",
     "output_type": "stream",
     "text": [
      "torch.Size([57048, 768])\n"
     ]
    }
   ],
   "source": [
    "roberta_fine_tuned_embeddings = roberta_fine_tuned_model.encode(descriptions, convert_to_tensor=True)\n",
    "\n",
    "print(roberta_fine_tuned_embeddings.shape)"
   ]
  },
  {
   "cell_type": "code",
   "execution_count": 26,
   "metadata": {},
   "outputs": [],
   "source": [
    "# save\n",
    "roberta_fine_tuned_model.save('../../models/non_preprocessing/roberta_fine_tuned_model')"
   ]
  },
  {
   "cell_type": "markdown",
   "metadata": {},
   "source": [
    "## Sentence BERT fine-tuned"
   ]
  },
  {
   "cell_type": "code",
   "execution_count": 27,
   "metadata": {},
   "outputs": [
    {
     "name": "stderr",
     "output_type": "stream",
     "text": [
      "Iteration: 100%|██████████| 1282/1282 [18:54<00:00,  1.13it/s]\n",
      "Iteration: 100%|██████████| 1282/1282 [18:53<00:00,  1.13it/s]\n",
      "Iteration: 100%|██████████| 1282/1282 [18:51<00:00,  1.13it/s]\n",
      "Iteration: 100%|██████████| 1282/1282 [18:52<00:00,  1.13it/s]\n",
      "Iteration: 100%|██████████| 1282/1282 [18:53<00:00,  1.13it/s]\n",
      "Epoch: 100%|██████████| 5/5 [1:34:25<00:00, 1133.05s/it]\n"
     ]
    }
   ],
   "source": [
    "from sentence_transformers import SentenceTransformer, losses, models\n",
    "\n",
    "# pre trained\n",
    "sbert_fine_tuned_model = SentenceTransformer(\"sentence-transformers/paraphrase-multilingual-MiniLM-L12-v2\")\n",
    "sbert_fine_tuned_model.to(device) # gpu\n",
    "\n",
    "train_loss = losses.MultipleNegativesRankingLoss(sbert_fine_tuned_model)\n",
    "num_epochs = 5\n",
    "num_warmup_steps = int(len(train_dataloader) * num_epochs * 0.1)\n",
    "\n",
    "\n",
    "sbert_fine_tuned_model.fit(train_objectives=[(train_dataloader, train_loss)], epochs = num_epochs, warmup_steps = num_warmup_steps)"
   ]
  },
  {
   "cell_type": "code",
   "execution_count": 28,
   "metadata": {},
   "outputs": [
    {
     "name": "stdout",
     "output_type": "stream",
     "text": [
      "torch.Size([57048, 384])\n"
     ]
    }
   ],
   "source": [
    "sbert_fine_tuned_embeddings = sbert_fine_tuned_model.encode(descriptions, convert_to_tensor=True)\n",
    "\n",
    "print(sbert_fine_tuned_embeddings.shape)"
   ]
  },
  {
   "cell_type": "code",
   "execution_count": 29,
   "metadata": {},
   "outputs": [],
   "source": [
    "# save\n",
    "sbert_fine_tuned_model.save('../../models/non_preprocessing/sbert_fine_tuned_model')"
   ]
  }
 ],
 "metadata": {
  "kernelspec": {
   "display_name": "Python 3",
   "language": "python",
   "name": "python3"
  },
  "language_info": {
   "codemirror_mode": {
    "name": "ipython",
    "version": 3
   },
   "file_extension": ".py",
   "mimetype": "text/x-python",
   "name": "python",
   "nbconvert_exporter": "python",
   "pygments_lexer": "ipython3",
   "version": "3.11.9"
  }
 },
 "nbformat": 4,
 "nbformat_minor": 2
}
