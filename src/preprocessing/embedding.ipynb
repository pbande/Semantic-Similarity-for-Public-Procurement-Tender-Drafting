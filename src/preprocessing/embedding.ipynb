{
 "cells": [
  {
   "cell_type": "code",
   "execution_count": 1,
   "metadata": {},
   "outputs": [],
   "source": [
    "import joblib\n",
    "import pandas as pd\n",
    "import matplotlib.pyplot as plt\n",
    "import numpy as np\n",
    "\n",
    "df = pd.read_csv(\"insiders_with_preprocessed_descriptions.csv\")\n",
    "descriptions = df['processed_description']\n",
    "cpv_description_df = df[['CPV', 'processed_description']]"
   ]
  },
  {
   "cell_type": "code",
   "execution_count": 2,
   "metadata": {},
   "outputs": [
    {
     "name": "stdout",
     "output_type": "stream",
     "text": [
      "Using device: cuda\n"
     ]
    }
   ],
   "source": [
    "import torch\n",
    "\n",
    "device = torch.device(\"cuda\" if torch.cuda.is_available() else \"cpu\")\n",
    "print(f\"Using device: {device}\")"
   ]
  },
  {
   "cell_type": "code",
   "execution_count": 5,
   "metadata": {},
   "outputs": [
    {
     "name": "stdout",
     "output_type": "stream",
     "text": [
      "<class 'pandas.core.frame.DataFrame'>\n",
      "Index: 57048 entries, 46668 to 34561\n",
      "Data columns (total 2 columns):\n",
      " #   Column                 Non-Null Count  Dtype \n",
      "---  ------                 --------------  ----- \n",
      " 0   CPV                    57048 non-null  object\n",
      " 1   processed_description  57048 non-null  object\n",
      "dtypes: object(2)\n",
      "memory usage: 1.3+ MB\n"
     ]
    }
   ],
   "source": [
    "cpv_description_df = cpv_description_df.sort_values(by='CPV')\n",
    "cpv_description_df.info()"
   ]
  },
  {
   "cell_type": "code",
   "execution_count": 3,
   "metadata": {},
   "outputs": [],
   "source": [
    "from sklearn.model_selection import train_test_split\n",
    "\n",
    "train_data, test_data = train_test_split(descriptions, test_size=0.25, random_state=42)"
   ]
  },
  {
   "cell_type": "code",
   "execution_count": 3,
   "metadata": {},
   "outputs": [
    {
     "name": "stderr",
     "output_type": "stream",
     "text": [
      "C:\\Users\\Pablo\\AppData\\Local\\Packages\\PythonSoftwareFoundation.Python.3.11_qbz5n2kfra8p0\\LocalCache\\local-packages\\Python311\\site-packages\\tqdm\\auto.py:21: TqdmWarning: IProgress not found. Please update jupyter and ipywidgets. See https://ipywidgets.readthedocs.io/en/stable/user_install.html\n",
      "  from .autonotebook import tqdm as notebook_tqdm\n"
     ]
    },
    {
     "name": "stdout",
     "output_type": "stream",
     "text": [
      "20503\n"
     ]
    }
   ],
   "source": [
    "from torch.utils.data import DataLoader\n",
    "from sentence_transformers import InputExample\n",
    "\n",
    "pairs = []\n",
    "\n",
    "cpv_groups = cpv_description_df.groupby('CPV')\n",
    "\n",
    "for cpv, group in cpv_groups:\n",
    "    list_of_descriptions = group['processed_description'].tolist()\n",
    "    if len(descriptions) > 1:  # Ensure there are at least two descriptions to create pairs\n",
    "        # Create pairs sequentially\n",
    "        for i in range(0, len(list_of_descriptions) - 1, 2):\n",
    "            if i + 1 < len(list_of_descriptions):\n",
    "                pairs.append(InputExample(texts=[list_of_descriptions[i], list_of_descriptions[i + 1]]))\n",
    "                \n",
    "print(len(pairs))\n",
    "\n",
    "# Create a DataLoader from the pairs\n",
    "train_dataloader = DataLoader(pairs, shuffle=True, batch_size=16)"
   ]
  },
  {
   "cell_type": "markdown",
   "metadata": {},
   "source": [
    "## TF-IDF"
   ]
  },
  {
   "cell_type": "code",
   "execution_count": 5,
   "metadata": {},
   "outputs": [],
   "source": [
    "from sklearn.feature_extraction.text import TfidfVectorizer\n",
    "\n",
    "tfidf_vectorizer = TfidfVectorizer()\n",
    "tfidf_embeddings = tfidf_vectorizer.fit_transform(descriptions)"
   ]
  },
  {
   "cell_type": "code",
   "execution_count": 10,
   "metadata": {},
   "outputs": [
    {
     "data": {
      "text/plain": [
       "(57048, 50514)"
      ]
     },
     "execution_count": 10,
     "metadata": {},
     "output_type": "execute_result"
    }
   ],
   "source": [
    "tfidf_embeddings.shape"
   ]
  },
  {
   "cell_type": "code",
   "execution_count": 11,
   "metadata": {},
   "outputs": [
    {
     "data": {
      "text/plain": [
       "['models/tfidf_vectorizer.pkl']"
      ]
     },
     "execution_count": 11,
     "metadata": {},
     "output_type": "execute_result"
    }
   ],
   "source": [
    "# save\n",
    "joblib.dump(tfidf_vectorizer, 'models/tfidf_vectorizer.pkl')"
   ]
  },
  {
   "cell_type": "markdown",
   "metadata": {},
   "source": [
    "## Doc2Vec"
   ]
  },
  {
   "cell_type": "code",
   "execution_count": 56,
   "metadata": {},
   "outputs": [],
   "source": [
    "from gensim.models.doc2vec import TaggedDocument\n",
    "\n",
    "doc2vec_train_data = [TaggedDocument(words=desc.split(), tags=[str(i)]) for i, desc in enumerate(descriptions)]"
   ]
  },
  {
   "cell_type": "code",
   "execution_count": 57,
   "metadata": {},
   "outputs": [],
   "source": [
    "from gensim.models.doc2vec import Doc2Vec\n",
    "\n",
    "doc2vec_model = Doc2Vec(\n",
    "    vector_size=300,\n",
    "    window=5,\n",
    "    min_count=1,\n",
    "    workers=4,\n",
    "    dm=1\n",
    ")\n",
    "\n",
    "doc2vec_model.build_vocab(doc2vec_train_data)\n",
    "doc2vec_model.train(\n",
    "    doc2vec_train_data, \n",
    "    total_examples=doc2vec_model.corpus_count, \n",
    "    epochs=30\n",
    ")"
   ]
  },
  {
   "cell_type": "markdown",
   "metadata": {},
   "source": [
    "evaluate"
   ]
  },
  {
   "cell_type": "code",
   "execution_count": 59,
   "metadata": {},
   "outputs": [
    {
     "name": "stdout",
     "output_type": "stream",
     "text": [
      "Document ranks with respect to the training corpus:\n",
      "Counter({0: 47498, 1: 3398, 2: 783, 3: 326, 4: 187, 5: 144, 6: 106, 7: 85, 9: 74, 8: 71, 10: 69, 11: 64, 15: 54, 12: 51, 13: 46, 14: 40, 16: 36, 18: 34, 19: 33, 20: 31, 22: 30, 25: 30, 30: 29, 17: 28, 21: 28, 31: 26, 26: 24, 44: 24, 23: 24, 24: 23, 32: 23, 42: 23, 48: 23, 27: 21, 28: 19, 46: 19, 53: 18, 51: 18, 29: 18, 59: 18, 34: 17, 37: 17, 39: 17, 36: 17, 33: 17, 41: 16, 49: 16, 45: 16, 86: 15, 58: 14, 64: 14, 47: 14, 54: 13, 55: 13, 50: 13, 38: 12, 67: 12, 43: 12, 35: 12, 56: 12, 127: 12, 61: 11, 95: 11, 101: 11, 68: 11, 139: 11, 75: 11, 62: 11, 89: 11, 57: 11, 76: 11, 96: 11, 126: 11, 81: 10, 158: 10, 73: 10, 131: 10, 105: 10, 145: 10, 123: 10, 74: 10, 52: 10, 85: 10, 72: 10, 88: 10, 84: 10, 198: 9, 69: 9, 94: 9, 114: 9, 103: 9, 179: 9, 150: 9, 133: 9, 263: 9, 100: 9, 146: 9, 152: 9, 213: 9, 91: 8, 83: 8, 104: 8, 106: 8, 98: 8, 230: 8, 223: 8, 260: 8, 141: 8, 66: 8, 80: 8, 224: 8, 231: 8, 166: 8, 77: 8, 125: 8, 63: 8, 65: 8, 90: 8, 116: 8, 228: 7, 97: 7, 364: 7, 204: 7, 155: 7, 313: 7, 138: 7, 108: 7, 264: 7, 147: 7, 71: 7, 143: 7, 118: 7, 102: 7, 168: 7, 153: 7, 93: 7, 322: 7, 165: 7, 251: 7, 107: 7, 111: 7, 115: 6, 417: 6, 128: 6, 274: 6, 227: 6, 631: 6, 70: 6, 273: 6, 485: 6, 185: 6, 209: 6, 285: 6, 140: 6, 157: 6, 87: 6, 246: 6, 389: 6, 40: 6, 277: 6, 215: 6, 343: 6, 197: 6, 318: 6, 369: 6, 117: 6, 162: 6, 316: 6, 361: 6, 394: 6, 134: 6, 154: 6, 250: 6, 368: 6, 187: 6, 520: 6, 82: 6, 113: 5, 236: 5, 446: 5, 190: 5, 188: 5, 193: 5, 346: 5, 328: 5, 374: 5, 177: 5, 587: 5, 205: 5, 356: 5, 136: 5, 545: 5, 135: 5, 242: 5, 282: 5, 189: 5, 173: 5, 218: 5, 307: 5, 120: 5, 279: 5, 367: 5, 397: 5, 99: 5, 208: 5, 310: 5, 291: 5, 160: 5, 191: 5, 262: 5, 192: 5, 171: 5, 365: 5, 144: 5, 229: 5, 278: 5, 164: 5, 119: 5, 340: 5, 411: 5, 391: 5, 305: 5, 327: 5, 196: 5, 60: 5, 129: 5, 376: 5, 299: 5, 130: 4, 538: 4, 363: 4, 470: 4, 349: 4, 172: 4, 457: 4, 472: 4, 270: 4, 533: 4, 604: 4, 221: 4, 184: 4, 344: 4, 167: 4, 693: 4, 620: 4, 271: 4, 276: 4, 508: 4, 593: 4, 425: 4, 696: 4, 258: 4, 176: 4, 438: 4, 163: 4, 480: 4, 265: 4, 1299: 4, 325: 4, 212: 4, 1380: 4, 635: 4, 423: 4, 137: 4, 684: 4, 225: 4, 178: 4, 297: 4, 253: 4, 248: 4, 78: 4, 1654: 4, 110: 4, 372: 4, 820: 4, 195: 4, 247: 4, 268: 4, 481: 4, 650: 4, 334: 4, 666: 4, 495: 4, 449: 4, 122: 4, 244: 4, 275: 4, 183: 4, 330: 4, 866: 4, 92: 4, 206: 4, 121: 4, 775: 4, 109: 4, 377: 4, 644: 4, 521: 4, 338: 4, 597: 4, 435: 3, 290: 3, 717: 3, 324: 3, 440: 3, 371: 3, 303: 3, 170: 3, 451: 3, 428: 3, 159: 3, 259: 3, 594: 3, 320: 3, 234: 3, 964: 3, 473: 3, 151: 3, 1602: 3, 890: 3, 396: 3, 725: 3, 601: 3, 217: 3, 511: 3, 392: 3, 1005: 3, 1258: 3, 355: 3, 493: 3, 329: 3, 909: 3, 544: 3, 801: 3, 407: 3, 194: 3, 2045: 3, 272: 3, 378: 3, 79: 3, 142: 3, 421: 3, 169: 3, 304: 3, 443: 3, 398: 3, 1475: 3, 576: 3, 581: 3, 1150: 3, 1225: 3, 518: 3, 453: 3, 381: 3, 595: 3, 612: 3, 233: 3, 447: 3, 782: 3, 789: 3, 720: 3, 657: 3, 266: 3, 333: 3, 708: 3, 547: 3, 180: 3, 317: 3, 777: 3, 704: 3, 460: 3, 798: 3, 437: 3, 245: 3, 226: 3, 203: 3, 284: 3, 2279: 3, 754: 3, 239: 3, 255: 3, 903: 3, 546: 3, 210: 3, 901: 3, 347: 3, 235: 3, 323: 3, 476: 3, 1084: 3, 794: 3, 301: 3, 380: 3, 677: 3, 387: 3, 492: 3, 207: 3, 534: 3, 575: 3, 608: 3, 1301: 3, 1048: 3, 465: 3, 405: 3, 517: 3, 1057: 3, 308: 3, 463: 3, 531: 3, 689: 3, 401: 3, 261: 3, 182: 3, 298: 3, 665: 3, 851: 3, 530: 3, 409: 3, 765: 3, 186: 3, 509: 3, 161: 3, 561: 3, 314: 3, 459: 3, 280: 3, 430: 3, 232: 3, 980: 3, 412: 3, 293: 3, 584: 3, 174: 3, 434: 3, 970: 3, 300: 3, 388: 3, 701: 3, 124: 3, 332: 3, 269: 3, 241: 3, 132: 3, 416: 3, 710: 3, 814: 3, 671: 3, 747: 3, 648: 2, 503: 2, 948: 2, 1031: 2, 1149: 2, 1942: 2, 742: 2, 1392: 2, 404: 2, 1269: 2, 1187: 2, 869: 2, 652: 2, 881: 2, 524: 2, 2944: 2, 1082: 2, 738: 2, 339: 2, 757: 2, 256: 2, 950: 2, 767: 2, 566: 2, 439: 2, 638: 2, 1869: 2, 379: 2, 1046: 2, 528: 2, 384: 2, 2364: 2, 758: 2, 1312: 2, 752: 2, 906: 2, 865: 2, 283: 2, 1432: 2, 972: 2, 737: 2, 852: 2, 649: 2, 1388: 2, 464: 2, 335: 2, 337: 2, 660: 2, 402: 2, 603: 2, 532: 2, 286: 2, 1050: 2, 1172: 2, 345: 2, 514: 2, 743: 2, 836: 2, 1194: 2, 2912: 2, 1042: 2, 1008: 2, 2192: 2, 656: 2, 543: 2, 497: 2, 966: 2, 149: 2, 2923: 2, 734: 2, 880: 2, 953: 2, 1760: 2, 647: 2, 1179: 2, 400: 2, 348: 2, 238: 2, 506: 2, 287: 2, 539: 2, 582: 2, 799: 2, 3271: 2, 898: 2, 578: 2, 1523: 2, 985: 2, 2515: 2, 1322: 2, 838: 2, 778: 2, 1387: 2, 1060: 2, 331: 2, 1891: 2, 2746: 2, 1086: 2, 848: 2, 1505: 2, 1218: 2, 1483: 2, 1657: 2, 175: 2, 222: 2, 219: 2, 1059: 2, 668: 2, 1047: 2, 1073: 2, 487: 2, 156: 2, 1023: 2, 1492: 2, 1307: 2, 420: 2, 1055: 2, 766: 2, 2208: 2, 426: 2, 1443: 2, 294: 2, 805: 2, 589: 2, 467: 2, 688: 2, 288: 2, 148: 2, 645: 2, 681: 2, 1075: 2, 216: 2, 1774: 2, 1332: 2, 1053: 2, 971: 2, 764: 2, 474: 2, 390: 2, 1425: 2, 200: 2, 513: 2, 830: 2, 895: 2, 466: 2, 326: 2, 627: 2, 479: 2, 1734: 2, 535: 2, 202: 2, 1452: 2, 643: 2, 342: 2, 1564: 2, 670: 2, 583: 2, 1068: 2, 981: 2, 602: 2, 808: 2, 414: 2, 315: 2, 795: 2, 804: 2, 112: 2, 542: 2, 735: 2, 740: 2, 1925: 2, 360: 2, 1011: 2, 537: 2, 1110: 2, 623: 2, 699: 2, 1408: 2, 1160: 2, 850: 2, 722: 2, 1319: 2, 2121: 2, 1503: 2, 750: 2, 879: 2, 619: 2, 1649: 2, 1136: 2, 1153: 2, 1496: 2, 554: 2, 306: 2, 1192: 2, 3179: 2, 1202: 2, 659: 2, 744: 2, 707: 2, 924: 2, 1115: 2, 841: 2, 687: 2, 1569: 2, 624: 2, 427: 2, 490: 2, 1003: 2, 413: 2, 383: 2, 1174: 2, 845: 2, 410: 2, 963: 2, 694: 2, 811: 2, 292: 2, 655: 2, 787: 2, 1382: 2, 875: 2, 1198: 2, 549: 2, 1079: 2, 700: 2, 510: 2, 580: 2, 199: 2, 876: 2, 840: 2, 181: 2, 661: 2, 357: 2, 988: 2, 770: 2, 1409: 2, 526: 2, 499: 2, 403: 2, 1585: 2, 1289: 2, 711: 2, 663: 2, 2098: 2, 489: 2, 1878: 2, 2968: 2, 973: 2, 994: 2, 974: 2, 1164: 2, 2656: 2, 567: 2, 1294: 2, 211: 2, 1357: 2, 548: 2, 786: 2, 2075: 2, 418: 2, 452: 2, 4305: 1, 1203: 1, 2466: 1, 748: 1, 432: 1, 996: 1, 1608: 1, 1884: 1, 1104: 1, 1574: 1, 431: 1, 319: 1, 359: 1, 2927: 1, 1406: 1, 1193: 1, 1419: 1, 616: 1, 2474: 1, 714: 1, 5553: 1, 1402: 1, 1670: 1, 2679: 1, 2190: 1, 1922: 1, 3113: 1, 2331: 1, 1343: 1, 1610: 1, 406: 1, 375: 1, 1490: 1, 1867: 1, 243: 1, 565: 1, 662: 1, 2201: 1, 934: 1, 1840: 1, 797: 1, 1098: 1, 4008: 1, 249: 1, 1422: 1, 1036: 1, 3277: 1, 986: 1, 1439: 1, 3349: 1, 927: 1, 1245: 1, 1298: 1, 1100: 1, 1260: 1, 690: 1, 4620: 1, 257: 1, 976: 1, 9511: 1, 4272: 1, 1049: 1, 3480: 1, 1311: 1, 1444: 1, 1081: 1, 1169: 1, 634: 1, 935: 1, 1001: 1, 1626: 1, 1344: 1, 1002: 1, 4538: 1, 2847: 1, 1851: 1, 723: 1, 1752: 1, 2064: 1, 1094: 1, 415: 1, 1971: 1, 461: 1, 4311: 1, 220: 1, 2063: 1, 3677: 1, 1316: 1, 3784: 1, 2858: 1, 823: 1, 2597: 1, 923: 1, 955: 1, 1267: 1, 913: 1, 341: 1, 309: 1, 1135: 1, 1889: 1, 4035: 1, 1915: 1, 393: 1, 1106: 1, 1395: 1, 563: 1, 4879: 1, 1348: 1, 1062: 1, 1766: 1, 373: 1, 3282: 1, 1680: 1, 267: 1, 424: 1, 4561: 1, 1240: 1, 1495: 1, 1538: 1, 1701: 1, 1239: 1, 2406: 1, 2384: 1, 726: 1, 868: 1, 1862: 1, 821: 1, 1438: 1, 491: 1, 3725: 1, 824: 1, 541: 1, 1436: 1, 3097: 1, 878: 1, 1798: 1, 1410: 1, 1345: 1, 1257: 1, 1205: 1, 441: 1, 945: 1, 505: 1, 1940: 1, 847: 1, 1548: 1, 951: 1, 1428: 1, 1308: 1, 3007: 1, 843: 1, 1230: 1, 585: 1, 1090: 1, 1959: 1, 1749: 1, 4076: 1, 2148: 1, 3060: 1, 1863: 1, 2236: 1, 551: 1, 1014: 1, 3087: 1, 5551: 1, 2157: 1, 605: 1, 1411: 1, 1418: 1, 2276: 1, 990: 1, 1744: 1, 1939: 1, 1296: 1, 1010: 1, 1300: 1, 1027: 1, 702: 1, 5481: 1, 2028: 1, 730: 1, 917: 1, 658: 1, 2077: 1, 5919: 1, 773: 1, 2635: 1, 609: 1, 636: 1, 3278: 1, 2685: 1, 2129: 1, 1209: 1, 2037: 1, 2026: 1, 2171: 1, 1815: 1, 1642: 1, 706: 1, 2420: 1, 3551: 1, 897: 1, 1640: 1, 2079: 1, 5283: 1, 1201: 1, 1052: 1, 1334: 1, 3403: 1, 419: 1, 1944: 1, 937: 1, 1080: 1, 2283: 1, 784: 1, 2349: 1, 2369: 1, 2233: 1, 1761: 1, 2781: 1, 2311: 1, 1369: 1, 975: 1, 653: 1, 893: 1, 4860: 1, 3034: 1, 712: 1, 1540: 1, 1247: 1, 1137: 1, 2686: 1, 1536: 1, 1015: 1, 429: 1, 1371: 1, 3528: 1, 1287: 1, 444: 1, 1102: 1, 599: 1, 201: 1, 3661: 1, 2803: 1, 4362: 1, 621: 1, 2612: 1, 1983: 1, 1429: 1, 1173: 1, 2154: 1, 2338: 1, 1750: 1, 1718: 1, 1814: 1, 761: 1, 2377: 1, 214: 1, 2977: 1, 1386: 1, 2225: 1, 2720: 1, 1822: 1, 2357: 1, 1559: 1, 1095: 1, 3314: 1, 1374: 1, 1221: 1, 1842: 1, 1521: 1, 1389: 1, 2696: 1, 673: 1, 607: 1, 1101: 1, 1074: 1, 1065: 1, 350: 1, 1778: 1, 1199: 1, 1767: 1, 2390: 1, 1122: 1, 1076: 1, 3298: 1, 3311: 1, 4489: 1, 1124: 1, 454: 1, 919: 1, 2163: 1, 2825: 1, 3334: 1, 2267: 1, 2272: 1, 523: 1, 3124: 1, 783: 1, 2490: 1, 1175: 1, 1248: 1, 1913: 1, 1961: 1, 846: 1, 1147: 1, 1170: 1, 902: 1, 691: 1, 1648: 1, 1107: 1, 1114: 1, 2639: 1, 3023: 1, 483: 1, 336: 1, 2184: 1, 2400: 1, 1144: 1, 729: 1, 1000: 1, 2275: 1, 2752: 1, 679: 1, 716: 1, 562: 1, 1763: 1, 1719: 1, 2110: 1, 1324: 1, 5029: 1, 3883: 1, 3223: 1, 1366: 1, 2179: 1, 1358: 1, 555: 1, 3067: 1, 849: 1, 2444: 1, 1241: 1, 1732: 1, 1836: 1, 698: 1, 926: 1, 2043: 1, 1216: 1, 1893: 1, 1524: 1, 2350: 1, 2433: 1, 1394: 1, 2207: 1, 1143: 1, 2841: 1, 1936: 1, 1484: 1, 1430: 1, 1531: 1, 885: 1, 1876: 1, 1161: 1, 632: 1, 2401: 1, 2178: 1, 2820: 1, 2765: 1, 3375: 1, 640: 1, 3328: 1, 477: 1, 1350: 1, 809: 1, 639: 1, 835: 1, 2415: 1, 1019: 1, 2777: 1, 2437: 1, 1030: 1, 941: 1, 1916: 1, 2005: 1, 1806: 1, 3750: 1, 1960: 1, 2802: 1, 1880: 1, 1875: 1, 1753: 1, 2346: 1, 2290: 1, 1305: 1, 2040: 1, 1091: 1, 1427: 1, 1291: 1, 1071: 1, 2608: 1, 366: 1, 2191: 1, 2153: 1, 615: 1, 1089: 1, 654: 1, 1421: 1, 2478: 1, 1434: 1, 2258: 1, 3683: 1, 4163: 1, 629: 1, 1784: 1, 1980: 1, 1827: 1, 2586: 1, 1390: 1, 1120: 1, 442: 1, 819: 1, 1381: 1, 529: 1, 674: 1, 721: 1, 1255: 1, 2695: 1, 540: 1, 1724: 1, 5059: 1, 507: 1, 922: 1, 1910: 1, 4036: 1, 2093: 1, 237: 1, 2744: 1, 2209: 1, 1007: 1, 1500: 1, 3304: 1, 864: 1, 2109: 1, 1146: 1, 1087: 1, 1069: 1, 1907: 1, 1024: 1, 4303: 1, 3169: 1, 883: 1, 1070: 1, 2181: 1, 1105: 1, 1592: 1, 1330: 1, 642: 1, 705: 1, 1233: 1, 1573: 1, 1214: 1, 2122: 1, 573: 1, 1582: 1, 1982: 1, 478: 1, 1539: 1, 2986: 1, 1558: 1, 1556: 1, 2710: 1, 1440: 1, 1346: 1, 1021: 1, 2212: 1, 4381: 1, 2368: 1, 1941: 1, 5800: 1, 2773: 1, 591: 1, 2766: 1, 2012: 1, 4507: 1, 3458: 1, 965: 1, 2306: 1, 1354: 1, 2705: 1, 6155: 1, 2264: 1, 1435: 1, 2505: 1, 1262: 1, 3540: 1, 731: 1, 3553: 1, 1404: 1, 1018: 1, 557: 1, 568: 1, 577: 1, 1544: 1, 1513: 1, 1458: 1, 1812: 1, 1518: 1, 1850: 1, 1696: 1, 5457: 1, 2733: 1, 1637: 1, 1675: 1, 1159: 1, 1905: 1, 2353: 1, 1232: 1, 1017: 1, 1119: 1, 633: 1, 574: 1, 1171: 1, 527: 1, 552: 1, 5357: 1, 4990: 1, 1731: 1, 2308: 1, 1445: 1, 1692: 1, 500: 1, 3105: 1, 1251: 1, 3307: 1, 1249: 1, 961: 1, 522: 1, 1133: 1, 1549: 1, 2057: 1, 914: 1, 1351: 1, 992: 1, 2173: 1, 887: 1, 2462: 1, 949: 1, 1437: 1, 1145: 1, 8002: 1, 2030: 1, 815: 1, 724: 1, 1034: 1, 1384: 1, 2166: 1, 1793: 1, 606: 1, 2226: 1, 1593: 1, 6032: 1, 2113: 1, 822: 1, 779: 1, 1847: 1, 1154: 1, 2231: 1, 1379: 1, 1140: 1, 1321: 1, 1568: 1, 1588: 1, 2654: 1, 900: 1, 870: 1, 586: 1, 1072: 1, 3910: 1, 2239: 1, 10038: 1, 1266: 1, 1604: 1, 1777: 1, 1340: 1, 2038: 1, 1756: 1, 1163: 1, 1745: 1, 4217: 1, 1044: 1, 1698: 1, 5725: 1, 6300: 1, 678: 1, 354: 1, 1892: 1, 741: 1, 1691: 1, 1181: 1, 1627: 1, 1244: 1, 1870: 1, 1690: 1, 1088: 1, 859: 1, 1676: 1, 448: 1, 1526: 1, 5903: 1, 450: 1, 1553: 1, 3265: 1, 2014: 1, 458: 1, 952: 1, 4712: 1, 1112: 1, 1800: 1, 3251: 1, 1736: 1, 2032: 1, 1469: 1, 519: 1, 2704: 1, 3928: 1, 433: 1, 2627: 1, 7108: 1, 3621: 1, 872: 1, 939: 1, 1785: 1, 1026: 1, 1609: 1, 882: 1, 833: 1, 842: 1, 1270: 1, 1552: 1, 1326: 1, 916: 1, 1313: 1, 2019: 1, 1528: 1, 1615: 1, 4021: 1, 936: 1, 385: 1, 692: 1, 488: 1, 1403: 1, 989: 1, 3252: 1, 1673: 1, 646: 1, 1162: 1, 651: 1, 780: 1, 1063: 1, 1838: 1, 993: 1, 2517: 1, 2584: 1, 462: 1, 745: 1, 1426: 1, 2787: 1, 1999: 1, 942: 1, 494: 1, 4540: 1, 2519: 1, 4103: 1, 469: 1, 240: 1, 1118: 1, 352: 1, 2203: 1, 1347: 1, 579: 1, 915: 1, 669: 1, 1979: 1, 1710: 1, 943: 1, 1275: 1, 1125: 1, 11634: 1, 5105: 1, 1431: 1, 929: 1, 556: 1, 295: 1, 1360: 1, 4601: 1, 834: 1, 2336: 1, 525: 1, 455: 1, 1323: 1, 2062: 1, 858: 1, 1092: 1, 1819: 1, 1859: 1, 908: 1, 5310: 1, 861: 1, 4798: 1, 311: 1, 592: 1, 4215: 1, 370: 1, 1783: 1, 877: 1, 2317: 1, 1955: 1, 475: 1, 3107: 1, 1832: 1, 598: 1, 1497: 1, 468: 1, 2754: 1, 921: 1, 753: 1, 281: 1, 1043: 1, 889: 1, 610: 1, 1243: 1, 321: 1, 560: 1, 3462: 1, 2693: 1, 2821: 1})\n"
     ]
    }
   ],
   "source": [
    "import collections\n",
    "\n",
    "ranks = []\n",
    "second_ranks = []\n",
    "\n",
    "# Infer vectors for each document in the training corpus and find their ranks\n",
    "for doc_id in range(len(doc2vec_train_data)):\n",
    "    inferred_vector = doc2vec_model.infer_vector(doc2vec_train_data[doc_id].words)\n",
    "    sims = doc2vec_model.dv.most_similar([inferred_vector], topn=len(doc2vec_model.dv))\n",
    "    doc_ids = [int(id) for id, sim in sims]\n",
    "\n",
    "    if doc_id in doc_ids:\n",
    "        rank = doc_ids.index(doc_id)\n",
    "        ranks.append(rank)\n",
    "    else:\n",
    "        ranks.append(-1)\n",
    "    \n",
    "    second_ranks.append(sims[1])\n",
    "\n",
    "# Analyze the ranks\n",
    "counter = collections.Counter(ranks)\n",
    "print(\"Document ranks with respect to the training corpus:\")\n",
    "print(counter)"
   ]
  },
  {
   "cell_type": "code",
   "execution_count": 73,
   "metadata": {},
   "outputs": [
    {
     "data": {
      "image/png": "[encoded data removed]",
      "text/plain": [
       "<Figure size 700x700 with 1 Axes>"
      ]
     },
     "metadata": {},
     "output_type": "display_data"
    }
   ],
   "source": [
    "grouped_counter = collections.Counter()\n",
    "for rank, count in counter.items():\n",
    "    if rank <= 2:\n",
    "        grouped_counter[rank] = count\n",
    "    else:\n",
    "        grouped_counter[3] += count\n",
    "\n",
    "# Plot the distribution of document ranks as a pie chart\n",
    "labels, sizes = zip(*grouped_counter.items())\n",
    "labels = [str(label) if label <= 2 else '3+' for label in labels]\n",
    "\n",
    "plt.figure(figsize=(7, 7))\n",
    "plt.pie(sizes, labels=labels, autopct='%1.1f%%', startangle=140)\n",
    "plt.axis('equal')  # Equal aspect ratio ensures that pie is drawn as a circle.\n",
    "plt.title('Document Ranks with Respect to the Training Corpus')\n",
    "plt.show()\n"
   ]
  },
  {
   "cell_type": "code",
   "execution_count": 75,
   "metadata": {},
   "outputs": [],
   "source": [
    "# save\n",
    "doc2vec_model.save('models/doc2vec_model.model')"
   ]
  },
  {
   "cell_type": "code",
   "execution_count": 74,
   "metadata": {},
   "outputs": [
    {
     "name": "stdout",
     "output_type": "stream",
     "text": [
      "57048 300\n"
     ]
    }
   ],
   "source": [
    "doc2vec_embeddings = doc2vec_model.dv.vectors\n",
    "print(len(doc2vec_embeddings), len(doc2vec_embeddings[0]))"
   ]
  },
  {
   "cell_type": "markdown",
   "metadata": {},
   "source": [
    "## RoBERTa fine-tuned"
   ]
  },
  {
   "cell_type": "code",
   "execution_count": 7,
   "metadata": {},
   "outputs": [
    {
     "name": "stderr",
     "output_type": "stream",
     "text": [
      "C:\\Users\\Pablo\\AppData\\Local\\Packages\\PythonSoftwareFoundation.Python.3.11_qbz5n2kfra8p0\\LocalCache\\local-packages\\Python311\\site-packages\\huggingface_hub\\file_download.py:1132: FutureWarning: `resume_download` is deprecated and will be removed in version 1.0.0. Downloads always resume when possible. If you want to force a new download, use `force_download=True`.\n",
      "  warnings.warn(\n",
      "C:\\Users\\Pablo\\AppData\\Local\\Packages\\PythonSoftwareFoundation.Python.3.11_qbz5n2kfra8p0\\LocalCache\\local-packages\\Python311\\site-packages\\torch\\_utils.py:776: UserWarning: TypedStorage is deprecated. It will be removed in the future and UntypedStorage will be the only storage class. This should only matter to you if you are using storages directly.  To access UntypedStorage directly, use tensor.untyped_storage() instead of tensor.storage()\n",
      "  return self.fget.__get__(instance, owner)()\n",
      "Some weights of RobertaModel were not initialized from the model checkpoint at PlanTL-GOB-ES/roberta-base-bne and are newly initialized: ['roberta.pooler.dense.bias', 'roberta.pooler.dense.weight']\n",
      "You should probably TRAIN this model on a down-stream task to be able to use it for predictions and inference.\n",
      "Iteration: 100%|██████████| 1282/1282 [11:36<00:00,  1.84it/s]\n",
      "Iteration: 100%|██████████| 1282/1282 [12:03<00:00,  1.77it/s]\n",
      "Iteration: 100%|██████████| 1282/1282 [12:04<00:00,  1.77it/s]\n",
      "Iteration: 100%|██████████| 1282/1282 [12:03<00:00,  1.77it/s]\n",
      "Iteration: 100%|██████████| 1282/1282 [12:12<00:00,  1.75it/s]\n",
      "Epoch: 100%|██████████| 5/5 [1:00:01<00:00, 720.21s/it]\n"
     ]
    }
   ],
   "source": [
    "from sentence_transformers import SentenceTransformer, losses, models\n",
    "\n",
    "# pre trained\n",
    "word_embedding_model = models.Transformer('PlanTL-GOB-ES/roberta-base-bne')\n",
    "\n",
    "# Load model directly\n",
    "from transformers import AutoTokenizer\n",
    "\n",
    "tokenizer = AutoTokenizer.from_pretrained(\"PlanTL-GOB-ES/roberta-base-bne\")\n",
    "\n",
    "# pool function over the token embeddings\n",
    "pooling_model = models.Pooling(word_embedding_model.get_word_embedding_dimension(), pooling_mode='mean')\n",
    "roberta_fine_tuned_model = SentenceTransformer(modules=[word_embedding_model, pooling_model])\n",
    "roberta_fine_tuned_model.to(device) # gpu\n",
    "\n",
    "train_loss = losses.MultipleNegativesRankingLoss(roberta_fine_tuned_model)\n",
    "num_epochs = 5\n",
    "num_warmup_steps = int(len(train_dataloader) * num_epochs * 0.1)\n",
    "\n",
    "\n",
    "roberta_fine_tuned_model.fit(train_objectives=[(train_dataloader, train_loss)], epochs = num_epochs, warmup_steps = num_warmup_steps)"
   ]
  },
  {
   "cell_type": "code",
   "execution_count": 16,
   "metadata": {},
   "outputs": [
    {
     "name": "stdout",
     "output_type": "stream",
     "text": [
      "torch.Size([57048, 768])\n"
     ]
    }
   ],
   "source": [
    "roberta_fine_tuned_embeddings = roberta_fine_tuned_model.encode(descriptions, convert_to_tensor=True)\n",
    "\n",
    "print(roberta_fine_tuned_embeddings.shape)"
   ]
  },
  {
   "cell_type": "code",
   "execution_count": 8,
   "metadata": {},
   "outputs": [],
   "source": [
    "# save\n",
    "roberta_fine_tuned_model.save('models/roberta_fine_tuned_model')"
   ]
  },
  {
   "cell_type": "markdown",
   "metadata": {},
   "source": [
    "## Sentence BERT fine-tuned"
   ]
  },
  {
   "cell_type": "code",
   "execution_count": 5,
   "metadata": {},
   "outputs": [
    {
     "name": "stderr",
     "output_type": "stream",
     "text": [
      "Iteration: 100%|██████████| 1282/1282 [04:46<00:00,  4.48it/s]\n",
      "Iteration: 100%|██████████| 1282/1282 [04:47<00:00,  4.47it/s]\n",
      "Iteration: 100%|██████████| 1282/1282 [04:46<00:00,  4.47it/s]\n",
      "Iteration: 100%|██████████| 1282/1282 [04:44<00:00,  4.50it/s]\n",
      "Iteration: 100%|██████████| 1282/1282 [04:40<00:00,  4.57it/s]\n",
      "Epoch: 100%|██████████| 5/5 [23:45<00:00, 285.09s/it]\n"
     ]
    }
   ],
   "source": [
    "from sentence_transformers import SentenceTransformer, losses, models\n",
    "\n",
    "# pre trained\n",
    "sbert_fine_tuned_model = SentenceTransformer(\"sentence-transformers/paraphrase-multilingual-MiniLM-L12-v2\")\n",
    "sbert_fine_tuned_model.to(device) # gpu\n",
    "\n",
    "train_loss = losses.MultipleNegativesRankingLoss(sbert_fine_tuned_model)\n",
    "num_epochs = 5\n",
    "num_warmup_steps = int(len(train_dataloader) * num_epochs * 0.1)\n",
    "\n",
    "\n",
    "sbert_fine_tuned_model.fit(train_objectives=[(train_dataloader, train_loss)], epochs = num_epochs, warmup_steps = num_warmup_steps)"
   ]
  },
  {
   "cell_type": "code",
   "execution_count": 9,
   "metadata": {},
   "outputs": [
    {
     "name": "stdout",
     "output_type": "stream",
     "text": [
      "torch.Size([57048, 384])\n"
     ]
    }
   ],
   "source": [
    "sbert_fine_tuned_embeddings = sbert_fine_tuned_model.encode(descriptions, convert_to_tensor=True)\n",
    "\n",
    "print(sbert_fine_tuned_embeddings.shape)"
   ]
  },
  {
   "cell_type": "code",
   "execution_count": 10,
   "metadata": {},
   "outputs": [],
   "source": [
    "# save\n",
    "sbert_fine_tuned_model.save('models/sbert_fine_tuned_model')"
   ]
  }
 ],
 "metadata": {
  "kernelspec": {
   "display_name": "Python 3",
   "language": "python",
   "name": "python3"
  },
  "language_info": {
   "codemirror_mode": {
    "name": "ipython",
    "version": 3
   },
   "file_extension": ".py",
   "mimetype": "text/x-python",
   "name": "python",
   "nbconvert_exporter": "python",
   "pygments_lexer": "ipython3",
   "version": "3.11.9"
  }
 },
 "nbformat": 4,
 "nbformat_minor": 2
}
